{
 "cells": [
  {
   "cell_type": "code",
   "execution_count": 5,
   "metadata": {},
   "outputs": [],
   "source": [
    "import numpy as np"
   ]
  },
  {
   "cell_type": "code",
   "execution_count": 6,
   "metadata": {},
   "outputs": [],
   "source": [
    "import pandas as pd"
   ]
  },
  {
   "cell_type": "code",
   "execution_count": 7,
   "metadata": {},
   "outputs": [],
   "source": []
  },
  {
   "cell_type": "code",
   "execution_count": 8,
   "metadata": {},
   "outputs": [],
   "source": [
    "from sklearn import datasets"
   ]
  },
  {
   "cell_type": "code",
   "execution_count": 13,
   "metadata": {},
   "outputs": [],
   "source": [
    "X,y = datasets.make_classification(n_samples=10**3, n_features = 10, random_state=86634)"
   ]
  },
  {
   "cell_type": "code",
   "execution_count": 15,
   "metadata": {},
   "outputs": [
    {
     "name": "stdout",
     "output_type": "stream",
     "text": [
      "[[-0.82282306  1.00091138 -0.65989673 ...  0.40535505  2.16444655\n",
      "   0.11673944]\n",
      " [-0.62121895  0.89528212  0.1634566  ... -0.20812605  0.9417663\n",
      "  -0.81332825]\n",
      " [-0.86524947  1.06834884 -0.06104524 ...  0.36796177  2.19755237\n",
      "   0.88504027]\n",
      " ...\n",
      " [-1.0443836   1.43480852  0.78219555 ... -0.09089724  1.93204664\n",
      "  -0.54166623]\n",
      " [-0.21418703  0.10346535 -0.61115521 ...  0.68402053  1.34241908\n",
      "   1.61895437]\n",
      " [-0.3001917   0.15792788 -0.29036592 ...  0.91111032  1.81739514\n",
      "   0.15895143]]\n"
     ]
    }
   ],
   "source": [
    "print(X)"
   ]
  },
  {
   "cell_type": "code",
   "execution_count": 19,
   "metadata": {},
   "outputs": [
    {
     "name": "stdout",
     "output_type": "stream",
     "text": [
      "-3.854444689847697\n"
     ]
    }
   ],
   "source": [
    "print(X[5,1])"
   ]
  },
  {
   "cell_type": "code",
   "execution_count": 20,
   "metadata": {},
   "outputs": [],
   "source": [
    "with open (\"zad2.txt.\", \"w\")as text_file: text_file.write(str(X[5,1]))"
   ]
  },
  {
   "cell_type": "code",
   "execution_count": null,
   "metadata": {},
   "outputs": [],
   "source": []
  }
 ],
 "metadata": {
  "kernelspec": {
   "display_name": "Python 3",
   "language": "python",
   "name": "python3"
  },
  "language_info": {
   "codemirror_mode": {
    "name": "ipython",
    "version": 3
   },
   "file_extension": ".py",
   "mimetype": "text/x-python",
   "name": "python",
   "nbconvert_exporter": "python",
   "pygments_lexer": "ipython3",
   "version": "3.6.4"
  }
 },
 "nbformat": 4,
 "nbformat_minor": 2
}
