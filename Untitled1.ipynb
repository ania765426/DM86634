{
 "cells": [
  {
   "cell_type": "code",
   "execution_count": 5,
   "metadata": {},
   "outputs": [],
   "source": [
    "import numpy as np"
   ]
  },
  {
   "cell_type": "code",
   "execution_count": 6,
   "metadata": {},
   "outputs": [],
   "source": [
    "import pandas as pd"
   ]
  },
  {
   "cell_type": "code",
   "execution_count": 8,
   "metadata": {},
   "outputs": [],
   "source": [
    "from sklearn import datasets"
   ]
  },
  {
   "cell_type": "code",
   "execution_count": 13,
   "metadata": {},
   "outputs": [],
   "source": [
    "X,y = datasets.make_classification(n_samples=10**3, n_features = 10, random_state=86634)"
   ]
  },
  {
   "cell_type": "code",
   "execution_count": 15,
   "metadata": {},
   "outputs": [
    {
     "name": "stdout",
     "output_type": "stream",
     "text": [
      "[[-0.82282306  1.00091138 -0.65989673 ...  0.40535505  2.16444655\n",
      "   0.11673944]\n",
      " [-0.62121895  0.89528212  0.1634566  ... -0.20812605  0.9417663\n",
      "  -0.81332825]\n",
      " [-0.86524947  1.06834884 -0.06104524 ...  0.36796177  2.19755237\n",
      "   0.88504027]\n",
      " ...\n",
      " [-1.0443836   1.43480852  0.78219555 ... -0.09089724  1.93204664\n",
      "  -0.54166623]\n",
      " [-0.21418703  0.10346535 -0.61115521 ...  0.68402053  1.34241908\n",
      "   1.61895437]\n",
      " [-0.3001917   0.15792788 -0.29036592 ...  0.91111032  1.81739514\n",
      "   0.15895143]]\n"
     ]
    }
   ],
   "source": [
    "print(X)"
   ]
  },
  {
   "cell_type": "code",
   "execution_count": 19,
   "metadata": {},
   "outputs": [
    {
     "name": "stdout",
     "output_type": "stream",
     "text": [
      "-3.854444689847697\n"
     ]
    }
   ],
   "source": [
    "print(X[5,1])"
   ]
  },
  {
   "cell_type": "code",
   "execution_count": 20,
   "metadata": {},
   "outputs": [],
   "source": [
    "with open (\"zad2.txt.\", \"w\")as text_file: text_file.write(str(X[5,1]))"
   ]
  },
  {
   "cell_type": "code",
   "execution_count": 25,
   "metadata": {},
   "outputs": [],
   "source": [
    "X=pd.DataFrame(X)"
   ]
  },
  {
   "cell_type": "code",
   "execution_count": 28,
   "metadata": {},
   "outputs": [
    {
     "data": {
      "text/html": [
       "<div>\n",
       "<style scoped>\n",
       "    .dataframe tbody tr th:only-of-type {\n",
       "        vertical-align: middle;\n",
       "    }\n",
       "\n",
       "    .dataframe tbody tr th {\n",
       "        vertical-align: top;\n",
       "    }\n",
       "\n",
       "    .dataframe thead th {\n",
       "        text-align: right;\n",
       "    }\n",
       "</style>\n",
       "<table border=\"1\" class=\"dataframe\">\n",
       "  <thead>\n",
       "    <tr style=\"text-align: right;\">\n",
       "      <th></th>\n",
       "      <th>0</th>\n",
       "      <th>1</th>\n",
       "      <th>2</th>\n",
       "      <th>3</th>\n",
       "      <th>4</th>\n",
       "      <th>5</th>\n",
       "      <th>6</th>\n",
       "      <th>7</th>\n",
       "      <th>8</th>\n",
       "      <th>9</th>\n",
       "    </tr>\n",
       "  </thead>\n",
       "  <tbody>\n",
       "    <tr>\n",
       "      <th>0</th>\n",
       "      <td>-0.822823</td>\n",
       "      <td>1.000911</td>\n",
       "      <td>-0.659897</td>\n",
       "      <td>0.491513</td>\n",
       "      <td>1.240461</td>\n",
       "      <td>0.918639</td>\n",
       "      <td>-0.440801</td>\n",
       "      <td>0.405355</td>\n",
       "      <td>2.164447</td>\n",
       "      <td>0.116739</td>\n",
       "    </tr>\n",
       "    <tr>\n",
       "      <th>1</th>\n",
       "      <td>-0.621219</td>\n",
       "      <td>0.895282</td>\n",
       "      <td>0.163457</td>\n",
       "      <td>-0.968632</td>\n",
       "      <td>2.581007</td>\n",
       "      <td>-0.025105</td>\n",
       "      <td>-0.830201</td>\n",
       "      <td>-0.208126</td>\n",
       "      <td>0.941766</td>\n",
       "      <td>-0.813328</td>\n",
       "    </tr>\n",
       "    <tr>\n",
       "      <th>2</th>\n",
       "      <td>-0.865249</td>\n",
       "      <td>1.068349</td>\n",
       "      <td>-0.061045</td>\n",
       "      <td>-0.660137</td>\n",
       "      <td>-0.497067</td>\n",
       "      <td>1.168478</td>\n",
       "      <td>0.713050</td>\n",
       "      <td>0.367962</td>\n",
       "      <td>2.197552</td>\n",
       "      <td>0.885040</td>\n",
       "    </tr>\n",
       "    <tr>\n",
       "      <th>3</th>\n",
       "      <td>-0.797947</td>\n",
       "      <td>1.407255</td>\n",
       "      <td>-0.032060</td>\n",
       "      <td>-0.372006</td>\n",
       "      <td>-0.177935</td>\n",
       "      <td>1.302167</td>\n",
       "      <td>-1.071026</td>\n",
       "      <td>-1.214859</td>\n",
       "      <td>-0.066226</td>\n",
       "      <td>-0.196270</td>\n",
       "    </tr>\n",
       "    <tr>\n",
       "      <th>4</th>\n",
       "      <td>1.037427</td>\n",
       "      <td>-1.788294</td>\n",
       "      <td>-1.725308</td>\n",
       "      <td>1.468148</td>\n",
       "      <td>1.207545</td>\n",
       "      <td>0.746479</td>\n",
       "      <td>-1.280581</td>\n",
       "      <td>1.427329</td>\n",
       "      <td>-0.118760</td>\n",
       "      <td>-0.090806</td>\n",
       "    </tr>\n",
       "    <tr>\n",
       "      <th>5</th>\n",
       "      <td>2.023929</td>\n",
       "      <td>-3.854445</td>\n",
       "      <td>0.094772</td>\n",
       "      <td>-0.126052</td>\n",
       "      <td>0.133334</td>\n",
       "      <td>0.044021</td>\n",
       "      <td>0.915747</td>\n",
       "      <td>4.131204</td>\n",
       "      <td>1.581621</td>\n",
       "      <td>1.345808</td>\n",
       "    </tr>\n",
       "  </tbody>\n",
       "</table>\n",
       "</div>"
      ],
      "text/plain": [
       "          0         1         2         3         4         5         6  \\\n",
       "0 -0.822823  1.000911 -0.659897  0.491513  1.240461  0.918639 -0.440801   \n",
       "1 -0.621219  0.895282  0.163457 -0.968632  2.581007 -0.025105 -0.830201   \n",
       "2 -0.865249  1.068349 -0.061045 -0.660137 -0.497067  1.168478  0.713050   \n",
       "3 -0.797947  1.407255 -0.032060 -0.372006 -0.177935  1.302167 -1.071026   \n",
       "4  1.037427 -1.788294 -1.725308  1.468148  1.207545  0.746479 -1.280581   \n",
       "5  2.023929 -3.854445  0.094772 -0.126052  0.133334  0.044021  0.915747   \n",
       "\n",
       "          7         8         9  \n",
       "0  0.405355  2.164447  0.116739  \n",
       "1 -0.208126  0.941766 -0.813328  \n",
       "2  0.367962  2.197552  0.885040  \n",
       "3 -1.214859 -0.066226 -0.196270  \n",
       "4  1.427329 -0.118760 -0.090806  \n",
       "5  4.131204  1.581621  1.345808  "
      ]
     },
     "execution_count": 28,
     "metadata": {},
     "output_type": "execute_result"
    }
   ],
   "source": [
    "X.head(6)"
   ]
  },
  {
   "cell_type": "code",
   "execution_count": null,
   "metadata": {},
   "outputs": [],
   "source": []
  }
 ],
 "metadata": {
  "kernelspec": {
   "display_name": "Python 3",
   "language": "python",
   "name": "python3"
  },
  "language_info": {
   "codemirror_mode": {
    "name": "ipython",
    "version": 3
   },
   "file_extension": ".py",
   "mimetype": "text/x-python",
   "name": "python",
   "nbconvert_exporter": "python",
   "pygments_lexer": "ipython3",
   "version": "3.6.4"
  }
 },
 "nbformat": 4,
 "nbformat_minor": 2
}
